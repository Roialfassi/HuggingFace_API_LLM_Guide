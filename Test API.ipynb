{
 "cells": [
  {
   "cell_type": "code",
   "execution_count": 1,
   "id": "ea4f5cd1-4710-4c70-b5cf-28cb88f943d3",
   "metadata": {},
   "outputs": [],
   "source": [
    "api_token = \"Your Token Here\" "
   ]
  },
  {
   "cell_type": "code",
   "execution_count": 2,
   "id": "de7cf426-0177-411d-9ca8-9bc8ac3583d0",
   "metadata": {},
   "outputs": [],
   "source": [
    "import requests\n"
   ]
  },
  {
   "cell_type": "code",
   "execution_count": null,
   "id": "ae5f95f4-608a-4ffc-a665-9bccaafe93f1",
   "metadata": {},
   "outputs": [],
   "source": [
    "model = \"gpt2\"  # You can replace this with any other model available on Hugging Face\n",
    "\n",
    "# Hugging Face Inference API URL\n",
    "api_url = f\"https://api-inference.huggingface.co/models/{model}\"\n",
    "\n",
    "# Headers for authorization\n",
    "headers = {\n",
    "    \"Authorization\": f\"Bearer {api_token}\"\n",
    "}\n",
    "\n",
    "# Your prompt\n",
    "prompt = \"Once upon a time in a faraway land,\"\n",
    "\n",
    "# Payload to send to the API\n",
    "payload = {\n",
    "    \"inputs\": prompt,\n",
    "    \"parameters\": {\n",
    "        \"max_length\": 50,  # Adjust the max length as needed\n",
    "    }\n",
    "}\n",
    "\n",
    "# Make the request to the API\n",
    "response = requests.post(api_url, headers=headers, json=payload)\n",
    "\n",
    "# Print the response\n",
    "if response.status_code == 200:\n",
    "    print(response.json())\n",
    "else:\n",
    "    print(f\"Error: {response.status_code}, {response.text}\")"
   ]
  }
 ],
 "metadata": {
  "kernelspec": {
   "display_name": "Python 3 (ipykernel)",
   "language": "python",
   "name": "python3"
  },
  "language_info": {
   "codemirror_mode": {
    "name": "ipython",
    "version": 3
   },
   "file_extension": ".py",
   "mimetype": "text/x-python",
   "name": "python",
   "nbconvert_exporter": "python",
   "pygments_lexer": "ipython3",
   "version": "3.12.4"
  }
 },
 "nbformat": 4,
 "nbformat_minor": 5
}
